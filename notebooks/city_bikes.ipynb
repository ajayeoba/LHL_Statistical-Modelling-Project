{
 "cells": [
  {
   "cell_type": "markdown",
   "metadata": {},
   "source": [
    "# CityBikes"
   ]
  },
  {
   "cell_type": "markdown",
   "metadata": {},
   "source": [
    "Send a request to CityBikes for the city of your choice. "
   ]
  },
  {
   "cell_type": "code",
   "execution_count": 1,
   "metadata": {},
   "outputs": [],
   "source": [
    "import requests\n",
    "import os\n",
    "import pandas as pd"
   ]
  },
  {
   "cell_type": "code",
   "execution_count": 2,
   "metadata": {},
   "outputs": [],
   "source": [
    "url = \"http://api.citybik.es/v2/networks/\"\n",
    "id = \"mobibikes\"\n",
    "result = requests.get(url+id)"
   ]
  },
  {
   "cell_type": "code",
   "execution_count": null,
   "metadata": {},
   "outputs": [],
   "source": [
    "#project"
   ]
  },
  {
   "cell_type": "markdown",
   "metadata": {},
   "source": [
    "Parse through the response to get the details you want for the bike stations in that city (latitude, longitude, number of bikes). "
   ]
  },
  {
   "cell_type": "code",
   "execution_count": 3,
   "metadata": {},
   "outputs": [],
   "source": [
    "cityBikes_vancouver = result.json()['network']['stations']\n",
    "\n",
    "name = []\n",
    "latitude = []\n",
    "longitude = []\n",
    "free_bikes = []\n",
    "for stations in cityBikes_vancouver:\n",
    "    name.append(stations['name'])\n",
    "    latitude.append(stations['latitude'])\n",
    "    longitude.append(stations['longitude'])\n",
    "    free_bikes.append(stations['free_bikes'])\n",
    "\n",
    "BikeStation = {'name': name,\n",
    "              'latitude' : latitude,\n",
    "              'longitude' : longitude,\n",
    "              'free_bikes' : free_bikes\n",
    "             }"
   ]
  },
  {
   "cell_type": "markdown",
   "metadata": {},
   "source": [
    "Put your parsed results into a DataFrame."
   ]
  },
  {
   "cell_type": "code",
   "execution_count": 4,
   "metadata": {},
   "outputs": [
    {
     "data": {
      "text/html": [
       "<div>\n",
       "<style scoped>\n",
       "    .dataframe tbody tr th:only-of-type {\n",
       "        vertical-align: middle;\n",
       "    }\n",
       "\n",
       "    .dataframe tbody tr th {\n",
       "        vertical-align: top;\n",
       "    }\n",
       "\n",
       "    .dataframe thead th {\n",
       "        text-align: right;\n",
       "    }\n",
       "</style>\n",
       "<table border=\"1\" class=\"dataframe\">\n",
       "  <thead>\n",
       "    <tr style=\"text-align: right;\">\n",
       "      <th></th>\n",
       "      <th>name</th>\n",
       "      <th>latitude</th>\n",
       "      <th>longitude</th>\n",
       "      <th>free_bikes</th>\n",
       "    </tr>\n",
       "  </thead>\n",
       "  <tbody>\n",
       "    <tr>\n",
       "      <th>0</th>\n",
       "      <td>10th &amp; Cambie</td>\n",
       "      <td>49.262487</td>\n",
       "      <td>-123.114397</td>\n",
       "      <td>9</td>\n",
       "    </tr>\n",
       "    <tr>\n",
       "      <th>1</th>\n",
       "      <td>Yaletown-Roundhouse Station</td>\n",
       "      <td>49.274566</td>\n",
       "      <td>-123.121817</td>\n",
       "      <td>4</td>\n",
       "    </tr>\n",
       "    <tr>\n",
       "      <th>2</th>\n",
       "      <td>Dunsmuir &amp; Beatty</td>\n",
       "      <td>49.279764</td>\n",
       "      <td>-123.110154</td>\n",
       "      <td>10</td>\n",
       "    </tr>\n",
       "    <tr>\n",
       "      <th>3</th>\n",
       "      <td>12th &amp; Yukon (City Hall)</td>\n",
       "      <td>49.260599</td>\n",
       "      <td>-123.113504</td>\n",
       "      <td>6</td>\n",
       "    </tr>\n",
       "    <tr>\n",
       "      <th>4</th>\n",
       "      <td>8th &amp; Ash</td>\n",
       "      <td>49.264215</td>\n",
       "      <td>-123.117772</td>\n",
       "      <td>12</td>\n",
       "    </tr>\n",
       "    <tr>\n",
       "      <th>...</th>\n",
       "      <td>...</td>\n",
       "      <td>...</td>\n",
       "      <td>...</td>\n",
       "      <td>...</td>\n",
       "    </tr>\n",
       "    <tr>\n",
       "      <th>240</th>\n",
       "      <td>PNE - Hastings &amp; Windermere</td>\n",
       "      <td>49.280977</td>\n",
       "      <td>-123.035969</td>\n",
       "      <td>4</td>\n",
       "    </tr>\n",
       "    <tr>\n",
       "      <th>241</th>\n",
       "      <td>1st &amp; Fir</td>\n",
       "      <td>49.270783</td>\n",
       "      <td>-123.141564</td>\n",
       "      <td>18</td>\n",
       "    </tr>\n",
       "    <tr>\n",
       "      <th>242</th>\n",
       "      <td>Sasamat &amp; 10th</td>\n",
       "      <td>49.264019</td>\n",
       "      <td>-123.209176</td>\n",
       "      <td>5</td>\n",
       "    </tr>\n",
       "    <tr>\n",
       "      <th>243</th>\n",
       "      <td>Trimble &amp; 8th</td>\n",
       "      <td>49.265800</td>\n",
       "      <td>-123.205960</td>\n",
       "      <td>1</td>\n",
       "    </tr>\n",
       "    <tr>\n",
       "      <th>244</th>\n",
       "      <td>Highbury &amp; 8th</td>\n",
       "      <td>49.265442</td>\n",
       "      <td>-123.187738</td>\n",
       "      <td>4</td>\n",
       "    </tr>\n",
       "  </tbody>\n",
       "</table>\n",
       "<p>245 rows × 4 columns</p>\n",
       "</div>"
      ],
      "text/plain": [
       "                            name   latitude   longitude  free_bikes\n",
       "0                  10th & Cambie  49.262487 -123.114397           9\n",
       "1    Yaletown-Roundhouse Station  49.274566 -123.121817           4\n",
       "2              Dunsmuir & Beatty  49.279764 -123.110154          10\n",
       "3       12th & Yukon (City Hall)  49.260599 -123.113504           6\n",
       "4                      8th & Ash  49.264215 -123.117772          12\n",
       "..                           ...        ...         ...         ...\n",
       "240  PNE - Hastings & Windermere  49.280977 -123.035969           4\n",
       "241                    1st & Fir  49.270783 -123.141564          18\n",
       "242               Sasamat & 10th  49.264019 -123.209176           5\n",
       "243                Trimble & 8th  49.265800 -123.205960           1\n",
       "244               Highbury & 8th  49.265442 -123.187738           4\n",
       "\n",
       "[245 rows x 4 columns]"
      ]
     },
     "execution_count": 4,
     "metadata": {},
     "output_type": "execute_result"
    }
   ],
   "source": [
    "df_BikeStation = pd.DataFrame(BikeStation)\n",
    "df_BikeStation.to_csv('../data/CityByke.csv')\n",
    "df_BikeStation\n"
   ]
  }
 ],
 "metadata": {
  "kernelspec": {
   "display_name": "Python 3",
   "language": "python",
   "name": "python3"
  },
  "language_info": {
   "codemirror_mode": {
    "name": "ipython",
    "version": 3
   },
   "file_extension": ".py",
   "mimetype": "text/x-python",
   "name": "python",
   "nbconvert_exporter": "python",
   "pygments_lexer": "ipython3",
   "version": "3.11.4"
  }
 },
 "nbformat": 4,
 "nbformat_minor": 4
}
