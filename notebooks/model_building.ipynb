{
 "cells": [
  {
   "cell_type": "markdown",
   "metadata": {},
   "source": [
    "Build a regression model."
   ]
  },
  {
   "cell_type": "code",
   "execution_count": 2,
   "metadata": {},
   "outputs": [],
   "source": [
    "import pandas as pd\n",
    "import seaborn as sns\n",
    "import matplotlib.pyplot as plt\n",
    "import statsmodels.api as sm"
   ]
  },
  {
   "cell_type": "code",
   "execution_count": 3,
   "metadata": {},
   "outputs": [
    {
     "data": {
      "text/html": [
       "<div>\n",
       "<style scoped>\n",
       "    .dataframe tbody tr th:only-of-type {\n",
       "        vertical-align: middle;\n",
       "    }\n",
       "\n",
       "    .dataframe tbody tr th {\n",
       "        vertical-align: top;\n",
       "    }\n",
       "\n",
       "    .dataframe thead th {\n",
       "        text-align: right;\n",
       "    }\n",
       "</style>\n",
       "<table border=\"1\" class=\"dataframe\">\n",
       "  <thead>\n",
       "    <tr style=\"text-align: right;\">\n",
       "      <th></th>\n",
       "      <th>fsq_restaurant_number</th>\n",
       "      <th>Fsq_avg_distance</th>\n",
       "      <th>Fsq_avg_price</th>\n",
       "      <th>Fsq_avg_rating</th>\n",
       "      <th>Yelp_avg_distance</th>\n",
       "      <th>Yelp_avg_rating</th>\n",
       "      <th>free_bikes</th>\n",
       "    </tr>\n",
       "  </thead>\n",
       "  <tbody>\n",
       "    <tr>\n",
       "      <th>0</th>\n",
       "      <td>10</td>\n",
       "      <td>340.800000</td>\n",
       "      <td>1.700000</td>\n",
       "      <td>8.110000</td>\n",
       "      <td>114.116580</td>\n",
       "      <td>5.25</td>\n",
       "      <td>9</td>\n",
       "    </tr>\n",
       "    <tr>\n",
       "      <th>1</th>\n",
       "      <td>10</td>\n",
       "      <td>127.900000</td>\n",
       "      <td>2.400000</td>\n",
       "      <td>8.460000</td>\n",
       "      <td>72.505704</td>\n",
       "      <td>6.45</td>\n",
       "      <td>4</td>\n",
       "    </tr>\n",
       "    <tr>\n",
       "      <th>2</th>\n",
       "      <td>10</td>\n",
       "      <td>293.400000</td>\n",
       "      <td>2.111111</td>\n",
       "      <td>8.790000</td>\n",
       "      <td>135.501846</td>\n",
       "      <td>6.25</td>\n",
       "      <td>10</td>\n",
       "    </tr>\n",
       "    <tr>\n",
       "      <th>3</th>\n",
       "      <td>10</td>\n",
       "      <td>386.400000</td>\n",
       "      <td>1.600000</td>\n",
       "      <td>8.170000</td>\n",
       "      <td>166.849287</td>\n",
       "      <td>6.55</td>\n",
       "      <td>6</td>\n",
       "    </tr>\n",
       "    <tr>\n",
       "      <th>4</th>\n",
       "      <td>10</td>\n",
       "      <td>295.300000</td>\n",
       "      <td>1.875000</td>\n",
       "      <td>7.833333</td>\n",
       "      <td>132.465398</td>\n",
       "      <td>7.35</td>\n",
       "      <td>12</td>\n",
       "    </tr>\n",
       "    <tr>\n",
       "      <th>...</th>\n",
       "      <td>...</td>\n",
       "      <td>...</td>\n",
       "      <td>...</td>\n",
       "      <td>...</td>\n",
       "      <td>...</td>\n",
       "      <td>...</td>\n",
       "      <td>...</td>\n",
       "    </tr>\n",
       "    <tr>\n",
       "      <th>240</th>\n",
       "      <td>10</td>\n",
       "      <td>545.100000</td>\n",
       "      <td>1.285714</td>\n",
       "      <td>6.571429</td>\n",
       "      <td>592.076413</td>\n",
       "      <td>6.25</td>\n",
       "      <td>4</td>\n",
       "    </tr>\n",
       "    <tr>\n",
       "      <th>241</th>\n",
       "      <td>10</td>\n",
       "      <td>350.200000</td>\n",
       "      <td>1.888889</td>\n",
       "      <td>8.290000</td>\n",
       "      <td>250.578418</td>\n",
       "      <td>7.40</td>\n",
       "      <td>18</td>\n",
       "    </tr>\n",
       "    <tr>\n",
       "      <th>242</th>\n",
       "      <td>7</td>\n",
       "      <td>129.714286</td>\n",
       "      <td>1.571429</td>\n",
       "      <td>6.785714</td>\n",
       "      <td>103.712860</td>\n",
       "      <td>7.20</td>\n",
       "      <td>5</td>\n",
       "    </tr>\n",
       "    <tr>\n",
       "      <th>243</th>\n",
       "      <td>2</td>\n",
       "      <td>257.500000</td>\n",
       "      <td>2.000000</td>\n",
       "      <td>7.750000</td>\n",
       "      <td>291.967091</td>\n",
       "      <td>7.15</td>\n",
       "      <td>1</td>\n",
       "    </tr>\n",
       "    <tr>\n",
       "      <th>244</th>\n",
       "      <td>10</td>\n",
       "      <td>317.200000</td>\n",
       "      <td>1.600000</td>\n",
       "      <td>7.562500</td>\n",
       "      <td>254.609040</td>\n",
       "      <td>7.30</td>\n",
       "      <td>4</td>\n",
       "    </tr>\n",
       "  </tbody>\n",
       "</table>\n",
       "<p>245 rows × 7 columns</p>\n",
       "</div>"
      ],
      "text/plain": [
       "     fsq_restaurant_number  Fsq_avg_distance  Fsq_avg_price  Fsq_avg_rating  \\\n",
       "0                       10        340.800000       1.700000        8.110000   \n",
       "1                       10        127.900000       2.400000        8.460000   \n",
       "2                       10        293.400000       2.111111        8.790000   \n",
       "3                       10        386.400000       1.600000        8.170000   \n",
       "4                       10        295.300000       1.875000        7.833333   \n",
       "..                     ...               ...            ...             ...   \n",
       "240                     10        545.100000       1.285714        6.571429   \n",
       "241                     10        350.200000       1.888889        8.290000   \n",
       "242                      7        129.714286       1.571429        6.785714   \n",
       "243                      2        257.500000       2.000000        7.750000   \n",
       "244                     10        317.200000       1.600000        7.562500   \n",
       "\n",
       "     Yelp_avg_distance  Yelp_avg_rating  free_bikes  \n",
       "0           114.116580             5.25           9  \n",
       "1            72.505704             6.45           4  \n",
       "2           135.501846             6.25          10  \n",
       "3           166.849287             6.55           6  \n",
       "4           132.465398             7.35          12  \n",
       "..                 ...              ...         ...  \n",
       "240         592.076413             6.25           4  \n",
       "241         250.578418             7.40          18  \n",
       "242         103.712860             7.20           5  \n",
       "243         291.967091             7.15           1  \n",
       "244         254.609040             7.30           4  \n",
       "\n",
       "[245 rows x 7 columns]"
      ]
     },
     "execution_count": 3,
     "metadata": {},
     "output_type": "execute_result"
    }
   ],
   "source": [
    "df_features = pd.read_csv(\"../data/features.csv\")\n",
    "df_features"
   ]
  },
  {
   "cell_type": "code",
   "execution_count": 8,
   "metadata": {},
   "outputs": [],
   "source": [
    "# Create a new DataFrame with predictors (Yelp_avg_distance) and the target variable (free_bikes)\n",
    "predictors = df_features[[ 'Yelp_avg_distance']]\n",
    "target = df_features['free_bikes']\n",
    "\n",
    "# Add a constant term to the predictors\n",
    "predictors = sm.add_constant(predictors)\n",
    "\n",
    "# Create a linear regression model\n",
    "model = sm.OLS(target, predictors)\n",
    "\n",
    "# Fit the model\n",
    "results = model.fit()\n",
    "\n"
   ]
  },
  {
   "cell_type": "markdown",
   "metadata": {},
   "source": [
    "Provide model output and an interpretation of the results. "
   ]
  },
  {
   "cell_type": "code",
   "execution_count": 9,
   "metadata": {},
   "outputs": [
    {
     "name": "stdout",
     "output_type": "stream",
     "text": [
      "                            OLS Regression Results                            \n",
      "==============================================================================\n",
      "Dep. Variable:             free_bikes   R-squared:                       0.006\n",
      "Model:                            OLS   Adj. R-squared:                  0.002\n",
      "Method:                 Least Squares   F-statistic:                     1.586\n",
      "Date:                Mon, 25 Sep 2023   Prob (F-statistic):              0.209\n",
      "Time:                        07:48:42   Log-Likelihood:                -762.59\n",
      "No. Observations:                 245   AIC:                             1529.\n",
      "Df Residuals:                     243   BIC:                             1536.\n",
      "Df Model:                           1                                         \n",
      "Covariance Type:            nonrobust                                         \n",
      "=====================================================================================\n",
      "                        coef    std err          t      P>|t|      [0.025      0.975]\n",
      "-------------------------------------------------------------------------------------\n",
      "const                 9.0978      0.636     14.310      0.000       7.846      10.350\n",
      "Yelp_avg_distance    -0.0025      0.002     -1.259      0.209      -0.007       0.001\n",
      "==============================================================================\n",
      "Omnibus:                       15.672   Durbin-Watson:                   1.885\n",
      "Prob(Omnibus):                  0.000   Jarque-Bera (JB):               16.819\n",
      "Skew:                           0.624   Prob(JB):                     0.000223\n",
      "Kurtosis:                       3.304   Cond. No.                         573.\n",
      "==============================================================================\n",
      "\n",
      "Notes:\n",
      "[1] Standard Errors assume that the covariance matrix of the errors is correctly specified.\n"
     ]
    }
   ],
   "source": [
    "# Print the model summary\n",
    "print(results.summary())"
   ]
  },
  {
   "cell_type": "markdown",
   "metadata": {},
   "source": [
    "### R-Squared\n",
    "R-squared  which is the measurement of how much of the targed variable is explained by changes in our model predictor. R-squared value of explains how the dependent variable explains the bike availability\n",
    "\n",
    "### Adj. R-Squared\n",
    "adjusted R-squared is very close to the R-squared. This could be because we are only using one feature in our model\n",
    "\n",
    "\n",
    "### Null Hypothesis (H0): \n",
    "The number of available bikes at a specific location is not significantly affected by the average distance of restaurants from that bikestation\n",
    "\n",
    "### Alternative Hypothesis (H1): \n",
    "The number of available bikes at a specific location is significantly affected by the average distance of restaurants from thatbikestation\n",
    "\n",
    "\n",
    "### Pvalue:\n",
    "The value of p-values is greater than 0.05. This implies that there is insufficient evidence to reject the null hypothesis. This implies that the average distance of restaurants from bikestation might not significantly influence the number of available bikes in that bike station"
   ]
  },
  {
   "cell_type": "code",
   "execution_count": 10,
   "metadata": {},
   "outputs": [
    {
     "data": {
      "image/png": "[encoded data removed]",
      "text/plain": [
       "<Figure size 640x480 with 1 Axes>"
      ]
     },
     "metadata": {},
     "output_type": "display_data"
    }
   ],
   "source": [
    "residuals = results.resid\n",
    "\n",
    "sns.histplot(residuals)\n",
    "plt.show()"
   ]
  },
  {
   "cell_type": "code",
   "execution_count": 12,
   "metadata": {},
   "outputs": [
    {
     "data": {
      "text/plain": [
       "const                9.097848\n",
       "Yelp_avg_distance   -0.002545\n",
       "dtype: float64"
      ]
     },
     "execution_count": 12,
     "metadata": {},
     "output_type": "execute_result"
    }
   ],
   "source": [
    "results.params"
   ]
  },
  {
   "cell_type": "markdown",
   "metadata": {},
   "source": [
    "# Stretch"
   ]
  },
  {
   "cell_type": "markdown",
   "metadata": {},
   "source": [
    "How can you turn the regression model into a classification model?"
   ]
  },
  {
   "cell_type": "code",
   "execution_count": null,
   "metadata": {},
   "outputs": [],
   "source": []
  }
 ],
 "metadata": {
  "kernelspec": {
   "display_name": "Python 3",
   "language": "python",
   "name": "python3"
  },
  "language_info": {
   "codemirror_mode": {
    "name": "ipython",
    "version": 3
   },
   "file_extension": ".py",
   "mimetype": "text/x-python",
   "name": "python",
   "nbconvert_exporter": "python",
   "pygments_lexer": "ipython3",
   "version": "3.11.4"
  }
 },
 "nbformat": 4,
 "nbformat_minor": 4
}
