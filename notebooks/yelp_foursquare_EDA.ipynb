{
 "cells": [
  {
   "cell_type": "code",
   "execution_count": null,
   "metadata": {},
   "outputs": [],
   "source": [
    "import requests\n",
    "import os\n",
    "import pandas as pd\n",
    "import numpy as np"
   ]
  },
  {
   "cell_type": "markdown",
   "metadata": {},
   "source": [
    "# Foursquare"
   ]
  },
  {
   "cell_type": "markdown",
   "metadata": {},
   "source": [
    "Send a request to Foursquare with a small radius (1000m) for all the bike stations in your city of choice. "
   ]
  },
  {
   "cell_type": "code",
   "execution_count": null,
   "metadata": {},
   "outputs": [],
   "source": [
    "url = \"https://api.foursquare.com/v3/places/search\"\n",
    "api_key = os.environ['my_key']\n",
    "\n",
    "\n",
    "headers = {\n",
    "    \"Accept\": \"application/json\",\n",
    "    \"Authorization\": api_key  \n",
    "    \n",
    "}"
   ]
  },
  {
   "cell_type": "code",
   "execution_count": null,
   "metadata": {},
   "outputs": [],
   "source": [
    "CityByke_locations = pd.read_csv('../data/CityByke.csv')\n",
    "\n",
    "Latitude = list(CityByke_locations['latitude'])\n",
    "Longitude = list(CityByke_locations['longitude'])"
   ]
  },
  {
   "cell_type": "code",
   "execution_count": null,
   "metadata": {},
   "outputs": [],
   "source": [
    "name = []\n",
    "fsq_id =[]\n",
    "latitude = []\n",
    "longitude = []\n",
    "distance = []\n",
    "address = []\n",
    "price = []\n",
    "rating = []\n",
    "\n",
    "for index in CityByke_locations.index:\n",
    "    \n",
    "    params = {\n",
    "    \"fields\": \"name,fsq_id,categories,rating,location,distance,price,store_id\",\n",
    "    \"query\": \"Restaurants\",\n",
    "    \"ll\": f\"{Latitude[index]},{Longitude[index]}\",\n",
    "    \"radius\" : 1000,\n",
    "    # \"open_now\": \"true\",\n",
    "    \"sort\":\"DISTANCE\"\n",
    "    }\n",
    "\n",
    "\n",
    "    \n",
    "\n",
    "    response = requests.request(\"GET\", url, params=params, headers=headers)\n",
    "    response_json = response.json()\n",
    "    \n",
    "    for restaurant in response_json['results']:\n",
    "        \n",
    "        name.append(restaurant['name'])\n",
    "        fsq_id.append(restaurant['fsq_id'])\n",
    "        \n",
    "        latitude.append(Latitude[index])\n",
    "        longitude.append(Longitude[index])\n",
    "        \n",
    "        distance.append(restaurant['distance'])\n",
    "        \n",
    "        try:\n",
    "            address.append(restaurant['location']['address'])\n",
    "        except:\n",
    "            address.append(None)\n",
    "            \n",
    "        try:\n",
    "            price.append(restaurant['price'])\n",
    "        except:\n",
    "            price.append(None)\n",
    "            \n",
    "        try:\n",
    "            rating.append(restaurant['rating'])\n",
    "        except:\n",
    "            rating.append(None)                      "
   ]
  },
  {
   "cell_type": "markdown",
   "metadata": {},
   "source": [
    "Parse through the response to get the POI (such as restaurants, bars, etc) details you want (ratings, name, location, etc)"
   ]
  },
  {
   "cell_type": "code",
   "execution_count": null,
   "metadata": {},
   "outputs": [],
   "source": [
    "#parsed in the for loop above\n"
   ]
  },
  {
   "cell_type": "markdown",
   "metadata": {},
   "source": [
    "Put your parsed results into a DataFrame"
   ]
  },
  {
   "cell_type": "code",
   "execution_count": null,
   "metadata": {},
   "outputs": [],
   "source": [
    "restaurant = {\"name\" : name,\n",
    "               'fsq_id' : fsq_id,\n",
    "               # 'category_name' : category_name,\n",
    "               # 'chains' : chains,\n",
    "               'latitude' : latitude,\n",
    "               'longitude' : longitude,\n",
    "               'distance' : distance,\n",
    "               'address': address,\n",
    "               # 'store_id' : store_id,\n",
    "               # 'locality' : locality,\n",
    "               'price' : price,\n",
    "               'rating' : rating\n",
    "              \n",
    "              \n",
    "              }\n",
    "\n",
    "df_foursquare_restaurants = pd.DataFrame(restaurant)\n",
    "df_foursquare_restaurants"
   ]
  },
  {
   "cell_type": "code",
   "execution_count": null,
   "metadata": {},
   "outputs": [],
   "source": [
    "# Data Transformation\n",
    "\n",
    "pointOfInterest = df_foursquare_restaurants.groupby(['latitude', 'longitude']).agg({'fsq_id': 'count', 'distance': np.mean, 'price': np.mean, 'rating':np.mean})\n",
    "poi_foursquare_restaurants= pointOfInterest.rename(columns= {'fsq_id':'fsq_restaurant_number', 'distance':'Fsq_avg_distance','price': 'Fsq_avg_price', 'rating': 'Fsq_avg_rating' })\n",
    "poi_foursquare_restaurants.to_csv('../data/foursquare_restaurants.csv')"
   ]
  },
  {
   "cell_type": "markdown",
   "metadata": {},
   "source": [
    "# Yelp"
   ]
  },
  {
   "cell_type": "markdown",
   "metadata": {},
   "source": [
    "Send a request to Yelp with a small radius (1000m) for all the bike stations in your city of choice. "
   ]
  },
  {
   "cell_type": "code",
   "execution_count": null,
   "metadata": {},
   "outputs": [],
   "source": [
    "yelp_url = \"https://api.yelp.com/v3/businesses/search\"\n",
    "api_key = os.environ['yelp_key']\n",
    "\n",
    "\n",
    "headers = {\n",
    "    \"Accept\": \"application/json\",\n",
    "    \"Authorization\": f'Bearer {api_key}'  \n",
    "    \n",
    "}\n",
    "\n",
    "\n",
    "name = []\n",
    "id = []\n",
    "category_name = []\n",
    "latitude = []\n",
    "longitude = []\n",
    "distance = []\n",
    "address = []\n",
    "price = []\n",
    "review_count = []\n",
    "rating = []\n",
    "\n",
    "\n",
    "for index in CityByke_locations.index:\n",
    "    \n",
    "    \n",
    "    params = {\n",
    "\n",
    "    \"term\": \"restaurants\",\n",
    "    \"latitude\": Latitude[index],\n",
    "    \"longitude\": Longitude[index],\n",
    "    \"radius\" : 1000,\n",
    "    # \"open_now\": \"true\",\n",
    "    \"sort_by\":\"distance\"\n",
    "    }\n",
    "    \n",
    "    \n",
    "    response = requests.request(\"GET\", yelp_url, params=params, headers=headers)\n",
    "    response_json = response.json()\n",
    "    \n",
    "    \n",
    "    for business in response_json['businesses']:\n",
    "        name.append(business['name'])\n",
    "        id.append(business['id'])\n",
    "        # category_name.append(business['categories'][0]['title'])\n",
    "        latitude.append(Latitude[index])\n",
    "        longitude.append(Longitude[index])\n",
    "        address.append(business['location']['display_address'])\n",
    "        distance.append(business['distance'])\n",
    "        \n",
    "        try:\n",
    "            price.append(business['price'])\n",
    "        except:\n",
    "            price.append(None)\n",
    "            \n",
    "        review_count.append(business['review_count'])\n",
    "        rating.append(business['rating'])\n",
    "            \n",
    "\n",
    "\n",
    "    \n"
   ]
  },
  {
   "cell_type": "markdown",
   "metadata": {},
   "source": [
    "Parse through the response to get the POI (such as restaurants, bars, etc) details you want (ratings, name, location, etc)"
   ]
  },
  {
   "cell_type": "code",
   "execution_count": null,
   "metadata": {},
   "outputs": [],
   "source": [
    "#parsed in the for loop above"
   ]
  },
  {
   "cell_type": "markdown",
   "metadata": {},
   "source": [
    "Put your parsed results into a DataFrame"
   ]
  },
  {
   "cell_type": "code",
   "execution_count": null,
   "metadata": {},
   "outputs": [],
   "source": [
    "restaurant = {\"name\" : name,\n",
    "               'id' : id,\n",
    "               # 'category_name' : category_name,\n",
    "               # 'chains' : chains,\n",
    "               'latitude' : latitude,\n",
    "               'longitude' : longitude,\n",
    "               'distance' : distance,\n",
    "               'address': address,\n",
    "               # 'store_id' : store_id,\n",
    "               'price' : price,\n",
    "               'review_count' : review_count,\n",
    "               'rating' : rating\n",
    "              \n",
    "              \n",
    "              }   \n",
    "\n",
    "df_yelp_restaurants = pd.DataFrame(restaurant)\n",
    "\n",
    "#allign the rating structure with foursquare data\n",
    "df_yelp_restaurants['adj_rating'] =  df_yelp_restaurants['rating'] *2\n",
    "\n",
    "\n",
    "# Data Transformation\n",
    "\n",
    "pointOfInterest = df_yelp_restaurants.groupby(['latitude', 'longitude']).agg({'id': 'count','distance': np.mean , 'review_count': np.mean, 'adj_rating':np.mean})\n",
    "poi_yelp_restaurants= pointOfInterest.rename(columns= {'id': 'Yelp_restaurant_number', 'distance':'Yelp_avg_distance','review_count' : 'Yelp_avg_review_count', 'adj_rating': 'Yelp_avg_rating' })\n",
    "poi_yelp_restaurants.to_csv('yelp_restaurants.csv')\n",
    "poi_yelp_restaurants"
   ]
  },
  {
   "cell_type": "markdown",
   "metadata": {},
   "source": [
    "# Comparing Results"
   ]
  },
  {
   "cell_type": "markdown",
   "metadata": {},
   "source": [
    "Which API provided you with more complete data? Provide an explanation. "
   ]
  },
  {
   "cell_type": "markdown",
   "metadata": {},
   "source": [
    "Observing Vancouver, foursquare API seem to have the higher quality of data. I observe it has more attribute. \n",
    "For example, foursquare API provide muliple category for each restaurant. so i can observe the different at a glance which restaurant has the most variants of food\n",
    "It also gives complete information about the price category of each restaurant so i know at a glance how expensive each restaurant is"
   ]
  },
  {
   "cell_type": "markdown",
   "metadata": {},
   "source": [
    "Get the top 10 restaurants according to their rating"
   ]
  },
  {
   "cell_type": "code",
   "execution_count": null,
   "metadata": {},
   "outputs": [],
   "source": [
    "poi_yelp_restaurants.sort_values('Yelp_avg_rating', ascending=False).head(10)"
   ]
  },
  {
   "cell_type": "code",
   "execution_count": null,
   "metadata": {},
   "outputs": [],
   "source": []
  },
  {
   "cell_type": "code",
   "execution_count": null,
   "metadata": {},
   "outputs": [],
   "source": [
    "poi_foursquare_restaurants.sort_values('fsq_avg_rating', ascending=False).head(10)"
   ]
  }
 ],
 "metadata": {
  "kernelspec": {
   "display_name": "Python 3",
   "language": "python",
   "name": "python3"
  },
  "language_info": {
   "codemirror_mode": {
    "name": "ipython",
    "version": 3
   },
   "file_extension": ".py",
   "mimetype": "text/x-python",
   "name": "python",
   "nbconvert_exporter": "python",
   "pygments_lexer": "ipython3",
   "version": "3.11.4"
  }
 },
 "nbformat": 4,
 "nbformat_minor": 4
}
